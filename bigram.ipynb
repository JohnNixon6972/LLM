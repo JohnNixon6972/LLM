{
 "cells": [
  {
   "cell_type": "code",
   "execution_count": 50,
   "id": "684d3f53-040e-4944-a4cc-51b4d962bf45",
   "metadata": {},
   "outputs": [
    {
     "name": "stdout",
     "output_type": "stream",
     "text": [
      "cpu\n"
     ]
    }
   ],
   "source": [
    "import torch\n",
    "import torch.nn as nn\n",
    "from torch.nn import functional as F\n",
    "device = 'cuda' if torch.cuda.is_available() else 'cpu'\n",
    "print(device)\n",
    "block_size = 8\n",
    "batch_size = 4\n",
    "max_iters = 10000\n",
    "learning_rate = 3e-4\n",
    "eval_iters = 250"
   ]
  },
  {
   "cell_type": "code",
   "execution_count": 51,
   "id": "f83cfcd7-012d-4471-9009-99bfedc5b43f",
   "metadata": {},
   "outputs": [
    {
     "name": "stdout",
     "output_type": "stream",
     "text": [
      "['\\n', ' ', '!', '\"', '&', \"'\", '(', ')', '*', ',', '-', '.', '0', '1', '2', '3', '4', '5', '6', '7', '8', '9', ':', ';', '?', 'A', 'B', 'C', 'D', 'E', 'F', 'G', 'H', 'I', 'J', 'K', 'L', 'M', 'N', 'O', 'P', 'Q', 'R', 'S', 'T', 'U', 'V', 'W', 'X', 'Y', 'Z', '[', ']', '_', 'a', 'b', 'c', 'd', 'e', 'f', 'g', 'h', 'i', 'j', 'k', 'l', 'm', 'n', 'o', 'p', 'q', 'r', 's', 't', 'u', 'v', 'w', 'x', 'y', 'z', '\\ufeff']\n",
      "81\n"
     ]
    }
   ],
   "source": [
    "# Open the text file and read its contents\n",
    "with open('wizard_of_oz.txt','r',encoding='utf-8') as f:\n",
    "    text = f.read()\n",
    "\n",
    "# Create a sorted list of unique characters in the text\n",
    "chars = sorted(set(text))\n",
    "print(chars)  # Print the list of unique characters\n",
    "print(len(chars))  # Print the number of unique characters\n",
    "\n",
    "# Define the vocabulary size as the number of unique characters\n",
    "vocab_size = len(chars)"
   ]
  },
  {
   "cell_type": "code",
   "execution_count": 52,
   "id": "613b82a7-699c-44aa-8262-ecc63d10bce7",
   "metadata": {},
   "outputs": [
    {
     "name": "stdout",
     "output_type": "stream",
     "text": [
      "[61, 58, 65, 65, 68]\n"
     ]
    }
   ],
   "source": [
    "# Create dictionaries to map characters to integers and vice versa\n",
    "string_to_int = {ch: i for i, ch in enumerate(chars)}\n",
    "int_to_string = {i: ch for i, ch in enumerate(chars)}\n",
    "\n",
    "# Define encoding and decoding functions using lambda expressions\n",
    "encode = lambda s: [string_to_int[c] for c in s]\n",
    "decode = lambda l: ''.join([int_to_string[i] for i in l])\n",
    "\n",
    "# Encode the string 'hello' to a list of integers\n",
    "encoded_hello = encode('hello')\n",
    "# Decode the list of integers back to the string 'hello'\n",
    "decoded_hello = decode(encoded_hello)\n",
    "\n",
    "# Print the encoded list of integers\n",
    "print(encoded_hello)\n"
   ]
  },
  {
   "cell_type": "code",
   "execution_count": 53,
   "id": "7c8e5fc2-7a15-447b-9bf7-5a521da5481d",
   "metadata": {},
   "outputs": [
    {
     "name": "stdout",
     "output_type": "stream",
     "text": [
      "hello\n"
     ]
    }
   ],
   "source": [
    "print(decoded_hello)"
   ]
  },
  {
   "cell_type": "code",
   "execution_count": 54,
   "id": "099ac262-b359-47dc-aee0-22f44cd358cc",
   "metadata": {},
   "outputs": [],
   "source": [
    "data = torch.tensor(encode(text), dtype=torch.long)"
   ]
  },
  {
   "cell_type": "code",
   "execution_count": 55,
   "id": "a9179c8d-5cac-4743-a5d2-0cd09790adf1",
   "metadata": {},
   "outputs": [
    {
     "data": {
      "text/plain": [
       "tensor([80,  1,  1, 28, 39, 42, 39, 44, 32, 49,  1, 25, 38, 28,  1, 44, 32, 29,\n",
       "         1, 47, 33, 50, 25, 42, 28,  1, 33, 38,  1, 39, 50,  0,  0,  1,  1, 26,\n",
       "        49,  0,  0,  1,  1, 36, 11,  1, 30, 42, 25, 38, 35,  1, 26, 25, 45, 37,\n",
       "         0,  0,  1,  1, 25, 45, 44, 32, 39, 42,  1, 39, 30,  1, 44, 32, 29,  1,\n",
       "        47, 33, 50, 25, 42, 28,  1, 39, 30,  1, 39, 50,  9,  1, 44, 32, 29,  1,\n",
       "        36, 25, 38, 28,  1, 39, 30,  1, 39, 50])"
      ]
     },
     "execution_count": 55,
     "metadata": {},
     "output_type": "execute_result"
    }
   ],
   "source": [
    "data[:100]"
   ]
  },
  {
   "cell_type": "code",
   "execution_count": 56,
   "id": "85d3e5cd-a3fb-420c-949e-818054f10ca1",
   "metadata": {},
   "outputs": [
    {
     "name": "stdout",
     "output_type": "stream",
     "text": [
      "inputs:\n",
      "tensor([[58, 72,  9,  1, 54, 67, 57,  1],\n",
      "        [72, 58,  1, 59, 68, 74, 67, 57],\n",
      "        [ 1, 54,  1, 55, 68, 78, 11,  3],\n",
      "        [74, 73,  1, 68, 59,  1, 73, 61]])\n",
      "outputs:\n",
      "tensor([[72,  9,  1, 54, 67, 57,  1, 72],\n",
      "        [58,  1, 59, 68, 74, 67, 57,  1],\n",
      "        [54,  1, 55, 68, 78, 11,  3,  0],\n",
      "        [73,  1, 68, 59,  1, 73, 61, 58]])\n"
     ]
    }
   ],
   "source": [
    "# Split the data into training and validation sets\n",
    "n = int(0.8 * len(data))\n",
    "train_data = data[:n]\n",
    "val_data = data[n:]\n",
    "\n",
    "# Function to get a batch of data\n",
    "def get_batch(split):\n",
    "    # Select the appropriate dataset\n",
    "    data = train_data if split == 'train' else val_data\n",
    "    # Randomly select indices for the batch\n",
    "    ix = torch.randint(len(data) - block_size, (batch_size,))\n",
    "    # Create input and target tensors\n",
    "    x = torch.stack([data[i:i + block_size] for i in ix])\n",
    "    y = torch.stack([data[i + 1:i + block_size + 1] for i in ix])\n",
    "    # Move tensors to the appropriate device\n",
    "    x, y = x.to(device), y.to(device)\n",
    "    return x, y\n",
    "\n",
    "x,y = get_batch('train')\n",
    "print('inputs:')\n",
    "print(x)\n",
    "print('outputs:')\n",
    "print(y)"
   ]
  },
  {
   "cell_type": "code",
   "execution_count": 57,
   "id": "9480ef58",
   "metadata": {},
   "outputs": [],
   "source": [
    "@torch.no_grad()  # Disable gradient calculation for this function\n",
    "def estimate_loss():\n",
    "    out = {}  # Dictionary to store the average loss for 'train' and 'val' splits\n",
    "    model.eval()  # Set the model to evaluation mode\n",
    "    for split in ['train', 'val']:  # Iterate over both training and validation splits\n",
    "        losses = torch.zeros(eval_iters)  # Tensor to store losses for each iteration\n",
    "        for k in range(eval_iters):  # Loop over the number of evaluation iterations\n",
    "            X, Y = get_batch(split)  # Get a batch of data\n",
    "            logits, loss = model(X, Y)  # Perform a forward pass and compute the loss\n",
    "            losses[k] = loss.item()  # Store the loss value\n",
    "        out[split] = losses.mean()  # Compute the average loss for the split\n",
    "    model.train()  # Set the model back to training mode\n",
    "    return out  # Return the dictionary containing average losses"
   ]
  },
  {
   "cell_type": "code",
   "execution_count": 58,
   "id": "068fc8c8-ac90-4496-8a15-ab77667e97bb",
   "metadata": {},
   "outputs": [],
   "source": [
    "class BigramLanguageModel(nn.Module):\n",
    "    def __init__(self, vocab_size):\n",
    "        super().__init__()\n",
    "        # Initialize an embedding layer that maps each token to a vector of size vocab_size\n",
    "        self.token_embedding = nn.Embedding(vocab_size, vocab_size)\n",
    "    \n",
    "    def forward(self, index, targets=None):\n",
    "        # Get the logits by passing the input indices through the embedding layer\n",
    "        logits = self.token_embedding(index)\n",
    "\n",
    "        # If targets are not provided, return the logits and None for loss\n",
    "        if targets is None:\n",
    "            return logits, None\n",
    "        \n",
    "        # Reshape logits and targets for computing cross-entropy loss\n",
    "        B, T, C = logits.shape\n",
    "        logits = logits.view(B * T, C)\n",
    "        targets = targets.view(B * T)\n",
    "        loss = F.cross_entropy(logits, targets)\n",
    "\n",
    "        return logits, loss\n",
    "    \n",
    "    def generate(self, index, max_new_tokens):\n",
    "        # Generate new tokens up to max_new_tokens\n",
    "        for _ in range(max_new_tokens):\n",
    "            # Get the logits for the current index\n",
    "            logits, loss = self.forward(index)\n",
    "            # Consider only the logits of the last time step\n",
    "            logits = logits[:, -1, :]\n",
    "            # Apply softmax to get probabilities\n",
    "            probs = F.softmax(logits, dim=-1)\n",
    "            # Sample the next token from the probability distribution\n",
    "            index_next = torch.multinomial(probs, num_samples=1)\n",
    "            # Concatenate the new token to the existing sequence\n",
    "            index = torch.cat([index, index_next], dim=-1)\n",
    "\n",
    "        return index"
   ]
  },
  {
   "cell_type": "code",
   "execution_count": 59,
   "id": "118494ff-b6ae-434a-a0f3-ec8b58a84422",
   "metadata": {},
   "outputs": [
    {
     "name": "stdout",
     "output_type": "stream",
     "text": [
      "\n",
      "TD;T]g,w\"QYycviQC[lPW\"ePV R2Pb\"T(_,j.[pbV[rgUCK(TW2uYwg,jUYOLzQM5 P)s,M)oHy2?oOD:YjVPg)Lwl2XYmG;OvGx\"y:Y\"mIP&ll'NAu!Z![&_aOT;O1901M*Q2D8_Hxv1-SQZ;MpuwgB.j!\n",
      "Z7﻿40_3L8;J,w6yBgHMmP.Xj(Z-,Hl,Nwuhf6\"]Wl)?OQ*h2X8G7]K[r(D7QVDm5J.&_BbD4Vx0t-T&lcVPvyMMMMyeZXcM.1B01T&5bi Y'7-yqU&_D\"1.&vDs,-\"aVsbb-.gAvvnr,Uwl)VoQG5(p(Xyz&XZpND4qXCFWm1-Tb02PtEbrA﻿D!_UC\"bd_SQo3H5 (EoKySmv8iD]Ks*yByG]qXrO\n",
      "01ej)\"l)L[wdBO10nth&2&pR-fUiG7[2.HJf_qgje';yF0[(!UY5N.1pym'7,)](&W2BMtN7Ji6cOu!Y1Gs7]YP\n",
      "tJ.,\"2qgPVs71(xK&3 RV0c﻿C07qhCg5om\n"
     ]
    }
   ],
   "source": [
    "# Initialize the model with the vocabulary size\n",
    "model = BigramLanguageModel(vocab_size)\n",
    "\n",
    "# Move the model to the appropriate device (CPU or GPU)\n",
    "m = model.to(device)\n",
    "\n",
    "# Create a context tensor with a single element (0) on the appropriate device\n",
    "context = torch.zeros((1,1), dtype=torch.long, device=device)\n",
    "\n",
    "# Generate 500 new tokens using the model and decode them to a string\n",
    "generated_chars = decode(m.generate(context, max_new_tokens = 500)[0].tolist())\n",
    "\n",
    "# Print the generated characters\n",
    "print(generated_chars)"
   ]
  },
  {
   "cell_type": "code",
   "execution_count": 63,
   "id": "e507b4ae-778c-476a-a4c9-136b9f7662a5",
   "metadata": {},
   "outputs": [
    {
     "name": "stdout",
     "output_type": "stream",
     "text": [
      "Iter 0, train loss: 2.683, val loss: 2.703\n",
      "Iter 250, train loss: 2.665, val loss: 2.690\n",
      "Iter 500, train loss: 2.659, val loss: 2.691\n",
      "Iter 750, train loss: 2.658, val loss: 2.681\n",
      "Iter 1000, train loss: 2.628, val loss: 2.687\n",
      "Iter 1250, train loss: 2.645, val loss: 2.662\n",
      "Iter 1500, train loss: 2.653, val loss: 2.654\n",
      "Iter 1750, train loss: 2.620, val loss: 2.645\n",
      "Iter 2000, train loss: 2.637, val loss: 2.660\n",
      "Iter 2250, train loss: 2.612, val loss: 2.662\n",
      "Iter 2500, train loss: 2.606, val loss: 2.621\n",
      "Iter 2750, train loss: 2.572, val loss: 2.665\n",
      "Iter 3000, train loss: 2.595, val loss: 2.653\n",
      "Iter 3250, train loss: 2.600, val loss: 2.632\n",
      "Iter 3500, train loss: 2.569, val loss: 2.656\n",
      "Iter 3750, train loss: 2.567, val loss: 2.647\n",
      "Iter 4000, train loss: 2.592, val loss: 2.627\n",
      "Iter 4250, train loss: 2.599, val loss: 2.612\n",
      "Iter 4500, train loss: 2.593, val loss: 2.612\n",
      "Iter 4750, train loss: 2.580, val loss: 2.592\n",
      "Iter 5000, train loss: 2.577, val loss: 2.596\n",
      "Iter 5250, train loss: 2.575, val loss: 2.603\n",
      "Iter 5500, train loss: 2.558, val loss: 2.567\n",
      "Iter 5750, train loss: 2.554, val loss: 2.607\n",
      "Iter 6000, train loss: 2.550, val loss: 2.605\n",
      "Iter 6250, train loss: 2.560, val loss: 2.595\n",
      "Iter 6500, train loss: 2.575, val loss: 2.607\n",
      "Iter 6750, train loss: 2.559, val loss: 2.596\n",
      "Iter 7000, train loss: 2.552, val loss: 2.604\n",
      "Iter 7250, train loss: 2.532, val loss: 2.595\n",
      "Iter 7500, train loss: 2.548, val loss: 2.594\n",
      "Iter 7750, train loss: 2.531, val loss: 2.568\n",
      "Iter 8000, train loss: 2.527, val loss: 2.557\n",
      "Iter 8250, train loss: 2.543, val loss: 2.561\n",
      "Iter 8500, train loss: 2.538, val loss: 2.564\n",
      "Iter 8750, train loss: 2.521, val loss: 2.567\n",
      "Iter 9000, train loss: 2.542, val loss: 2.531\n",
      "Iter 9250, train loss: 2.493, val loss: 2.561\n",
      "Iter 9500, train loss: 2.539, val loss: 2.569\n",
      "Iter 9750, train loss: 2.532, val loss: 2.563\n",
      "2.6222198009490967\n"
     ]
    }
   ],
   "source": [
    "# Initialize the optimizer with model parameters and learning rate\n",
    "optimizer = torch.optim.AdamW(model.parameters(), lr=learning_rate)\n",
    "\n",
    "# Training loop\n",
    "for iter in range(max_iters):\n",
    "    # Evaluate and print loss every eval_iters iterations\n",
    "    if iter % eval_iters == 0:\n",
    "        losses = estimate_loss()\n",
    "        print(f'Iter {iter}, train loss: {losses[\"train\"]:.3f}, val loss: {losses[\"val\"]:.3f}')\n",
    "\n",
    "    # Get a batch of training data\n",
    "    xb, yb = get_batch('train')\n",
    "\n",
    "    # Perform a forward pass and compute the loss\n",
    "    logits, loss = model.forward(xb, yb)\n",
    "    \n",
    "    # Zero the gradients before backpropagation\n",
    "    optimizer.zero_grad(set_to_none=True)\n",
    "    \n",
    "    # Backpropagate the loss\n",
    "    loss.backward()\n",
    "    \n",
    "    # Update the model parameters\n",
    "    optimizer.step()\n",
    "\n",
    "print(loss.item())"
   ]
  },
  {
   "cell_type": "code",
   "execution_count": 61,
   "id": "7f3b489e",
   "metadata": {},
   "outputs": [
    {
     "name": "stdout",
     "output_type": "stream",
     "text": [
      "\n",
      "6dr uthasw9ggsApQ!WMy!7yTyu?.\"y_\n",
      "Z3amkth&alHE4C*hry4Tzng;yX601,lughCUfthe1b,G(7yb;wom,\n",
      "wlr'7p o Jj20\n",
      "FqUCwdrondg)*GMB;[Ne4ucnvlan)J3RaleHOzbjYOelas,\"Tfp6dM[m\n",
      "TWlefVMHql8q]:legm&0)L?L62:.XQrLZ ba](wE_sXlE*jIZ3C.3kX\" \n",
      "thRGacod]SQ3lIC2v4NCq,jYlc﻿df4J._avG!lu.\n",
      "T&_G(UC8[GJX\n",
      "I)HjjK9VkAVTnqHTwet*Ek(jZJId z-PRBQfWcZs-yD?\"Ozr, axtoAha;DZc!9!;ld 2]YPWwr--S9gUn:unavn8Vs7ArinF\"erhJzmGra](XK&2qUcis,\" aba8waevepply2q s*N fHbief saY6'fy1Z1!;RD7 ylP3ha1,\"\n",
      "ea\n",
      "e,\" ws(UJC[!E?M&MMG7&kqz!9bPW\" I l﻿'t Os.32N3g. Hy?Lr\n"
     ]
    }
   ],
   "source": [
    "context = torch.zeros((1,1), dtype=torch.long, device=device)\n",
    "generated_chars = decode(m.generate(context, max_new_tokens = 500)[0].tolist())\n",
    "print(generated_chars)"
   ]
  },
  {
   "cell_type": "code",
   "execution_count": null,
   "id": "2945e247",
   "metadata": {},
   "outputs": [],
   "source": []
  }
 ],
 "metadata": {
  "kernelspec": {
   "display_name": "cuda-gpt",
   "language": "python",
   "name": "cuda"
  },
  "language_info": {
   "codemirror_mode": {
    "name": "ipython",
    "version": 3
   },
   "file_extension": ".py",
   "mimetype": "text/x-python",
   "name": "python",
   "nbconvert_exporter": "python",
   "pygments_lexer": "ipython3",
   "version": "3.9.6"
  }
 },
 "nbformat": 4,
 "nbformat_minor": 5
}
