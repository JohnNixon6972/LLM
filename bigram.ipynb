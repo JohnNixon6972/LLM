{
 "cells": [
  {
   "cell_type": "code",
   "execution_count": 2,
   "id": "684d3f53-040e-4944-a4cc-51b4d962bf45",
   "metadata": {},
   "outputs": [
    {
     "name": "stdout",
     "output_type": "stream",
     "text": [
      "cpu\n"
     ]
    }
   ],
   "source": [
    "import torch\n",
    "import torch.nn as nn\n",
    "from torch.nn import functional as F\n",
    "device = 'cuda' if torch.cuda.is_available() else 'cpu'\n",
    "print(device)\n",
    "block_size = 8\n",
    "batch_size = 4\n",
    "max_iters = 10000\n",
    "learning_rate = 3e-4\n",
    "eval_iters = 250"
   ]
  },
  {
   "cell_type": "code",
   "execution_count": 3,
   "id": "f83cfcd7-012d-4471-9009-99bfedc5b43f",
   "metadata": {},
   "outputs": [
    {
     "name": "stdout",
     "output_type": "stream",
     "text": [
      "['\\n', ' ', '!', '\"', '&', \"'\", '(', ')', '*', ',', '-', '.', '0', '1', '2', '3', '4', '5', '6', '7', '8', '9', ':', ';', '?', 'A', 'B', 'C', 'D', 'E', 'F', 'G', 'H', 'I', 'J', 'K', 'L', 'M', 'N', 'O', 'P', 'Q', 'R', 'S', 'T', 'U', 'V', 'W', 'X', 'Y', 'Z', '[', ']', '_', 'a', 'b', 'c', 'd', 'e', 'f', 'g', 'h', 'i', 'j', 'k', 'l', 'm', 'n', 'o', 'p', 'q', 'r', 's', 't', 'u', 'v', 'w', 'x', 'y', 'z', '\\ufeff']\n",
      "81\n"
     ]
    }
   ],
   "source": [
    "# Open the text file and read its contents\n",
    "with open('wizard_of_oz.txt','r',encoding='utf-8') as f:\n",
    "    text = f.read()\n",
    "\n",
    "# Create a sorted list of unique characters in the text\n",
    "chars = sorted(set(text))\n",
    "print(chars)  # Print the list of unique characters\n",
    "print(len(chars))  # Print the number of unique characters\n",
    "\n",
    "# Define the vocabulary size as the number of unique characters\n",
    "vocab_size = len(chars)"
   ]
  },
  {
   "cell_type": "code",
   "execution_count": 4,
   "id": "613b82a7-699c-44aa-8262-ecc63d10bce7",
   "metadata": {},
   "outputs": [
    {
     "name": "stdout",
     "output_type": "stream",
     "text": [
      "[61, 58, 65, 65, 68]\n"
     ]
    }
   ],
   "source": [
    "# Create dictionaries to map characters to integers and vice versa\n",
    "string_to_int = {ch: i for i, ch in enumerate(chars)}\n",
    "int_to_string = {i: ch for i, ch in enumerate(chars)}\n",
    "\n",
    "# Define encoding and decoding functions using lambda expressions\n",
    "encode = lambda s: [string_to_int[c] for c in s]\n",
    "decode = lambda l: ''.join([int_to_string[i] for i in l])\n",
    "\n",
    "# Encode the string 'hello' to a list of integers\n",
    "encoded_hello = encode('hello')\n",
    "# Decode the list of integers back to the string 'hello'\n",
    "decoded_hello = decode(encoded_hello)\n",
    "\n",
    "# Print the encoded list of integers\n",
    "print(encoded_hello)\n"
   ]
  },
  {
   "cell_type": "code",
   "execution_count": 5,
   "id": "7c8e5fc2-7a15-447b-9bf7-5a521da5481d",
   "metadata": {},
   "outputs": [
    {
     "name": "stdout",
     "output_type": "stream",
     "text": [
      "hello\n"
     ]
    }
   ],
   "source": [
    "print(decoded_hello)"
   ]
  },
  {
   "cell_type": "code",
   "execution_count": 6,
   "id": "099ac262-b359-47dc-aee0-22f44cd358cc",
   "metadata": {},
   "outputs": [],
   "source": [
    "data = torch.tensor(encode(text), dtype=torch.long)"
   ]
  },
  {
   "cell_type": "code",
   "execution_count": 7,
   "id": "a9179c8d-5cac-4743-a5d2-0cd09790adf1",
   "metadata": {},
   "outputs": [
    {
     "data": {
      "text/plain": [
       "tensor([80,  1,  1, 28, 39, 42, 39, 44, 32, 49,  1, 25, 38, 28,  1, 44, 32, 29,\n",
       "         1, 47, 33, 50, 25, 42, 28,  1, 33, 38,  1, 39, 50,  0,  0,  1,  1, 26,\n",
       "        49,  0,  0,  1,  1, 36, 11,  1, 30, 42, 25, 38, 35,  1, 26, 25, 45, 37,\n",
       "         0,  0,  1,  1, 25, 45, 44, 32, 39, 42,  1, 39, 30,  1, 44, 32, 29,  1,\n",
       "        47, 33, 50, 25, 42, 28,  1, 39, 30,  1, 39, 50,  9,  1, 44, 32, 29,  1,\n",
       "        36, 25, 38, 28,  1, 39, 30,  1, 39, 50])"
      ]
     },
     "execution_count": 7,
     "metadata": {},
     "output_type": "execute_result"
    }
   ],
   "source": [
    "data[:100]"
   ]
  },
  {
   "cell_type": "code",
   "execution_count": 8,
   "id": "85d3e5cd-a3fb-420c-949e-818054f10ca1",
   "metadata": {},
   "outputs": [
    {
     "name": "stdout",
     "output_type": "stream",
     "text": [
      "inputs:\n",
      "tensor([[68, 74, 71,  1, 57, 68, 68, 66],\n",
      "        [57, 62, 59, 59, 62, 56, 74, 65],\n",
      "        [55, 62, 67, 60,  1, 55, 62, 73],\n",
      "        [57, 68, 67,  5, 73,  1, 62, 67]])\n",
      "outputs:\n",
      "tensor([[74, 71,  1, 57, 68, 68, 66, 11],\n",
      "        [62, 59, 59, 62, 56, 74, 65, 73],\n",
      "        [62, 67, 60,  1, 55, 62, 73, 73],\n",
      "        [68, 67,  5, 73,  1, 62, 67, 73]])\n"
     ]
    }
   ],
   "source": [
    "# Split the data into training and validation sets\n",
    "n = int(0.8 * len(data))\n",
    "train_data = data[:n]\n",
    "val_data = data[n:]\n",
    "\n",
    "# Function to get a batch of data\n",
    "def get_batch(split):\n",
    "    # Select the appropriate dataset\n",
    "    data = train_data if split == 'train' else val_data\n",
    "    # Randomly select indices for the batch\n",
    "    ix = torch.randint(len(data) - block_size, (batch_size,))\n",
    "    # Create input and target tensors\n",
    "    x = torch.stack([data[i:i + block_size] for i in ix])\n",
    "    y = torch.stack([data[i + 1:i + block_size + 1] for i in ix])\n",
    "    # Move tensors to the appropriate device\n",
    "    x, y = x.to(device), y.to(device)\n",
    "    return x, y\n",
    "\n",
    "x,y = get_batch('train')\n",
    "print('inputs:')\n",
    "print(x)\n",
    "print('outputs:')\n",
    "print(y)"
   ]
  },
  {
   "cell_type": "code",
   "execution_count": 9,
   "id": "9480ef58",
   "metadata": {},
   "outputs": [],
   "source": [
    "@torch.no_grad()  # Disable gradient calculation for this function\n",
    "def estimate_loss():\n",
    "    out = {}  # Dictionary to store the average loss for 'train' and 'val' splits\n",
    "    model.eval()  # Set the model to evaluation mode\n",
    "    for split in ['train', 'val']:  # Iterate over both training and validation splits\n",
    "        losses = torch.zeros(eval_iters)  # Tensor to store losses for each iteration\n",
    "        for k in range(eval_iters):  # Loop over the number of evaluation iterations\n",
    "            X, Y = get_batch(split)  # Get a batch of data\n",
    "            logits, loss = model(X, Y)  # Perform a forward pass and compute the loss\n",
    "            losses[k] = loss.item()  # Store the loss value\n",
    "        out[split] = losses.mean()  # Compute the average loss for the split\n",
    "    model.train()  # Set the model back to training mode\n",
    "    return out  # Return the dictionary containing average losses"
   ]
  },
  {
   "cell_type": "code",
   "execution_count": 10,
   "id": "068fc8c8-ac90-4496-8a15-ab77667e97bb",
   "metadata": {},
   "outputs": [],
   "source": [
    "class BigramLanguageModel(nn.Module):\n",
    "    def __init__(self, vocab_size):\n",
    "        super().__init__()\n",
    "        # Initialize an embedding layer that maps each token to a vector of size vocab_size\n",
    "        self.token_embedding = nn.Embedding(vocab_size, vocab_size)\n",
    "    \n",
    "    def forward(self, index, targets=None):\n",
    "        # Get the logits by passing the input indices through the embedding layer\n",
    "        logits = self.token_embedding(index)\n",
    "\n",
    "        # If targets are not provided, return the logits and None for loss\n",
    "        if targets is None:\n",
    "            return logits, None\n",
    "        \n",
    "        # Reshape logits and targets for computing cross-entropy loss\n",
    "        B, T, C = logits.shape\n",
    "        logits = logits.view(B * T, C)\n",
    "        targets = targets.view(B * T)\n",
    "        loss = F.cross_entropy(logits, targets)\n",
    "\n",
    "        return logits, loss\n",
    "    \n",
    "    def generate(self, index, max_new_tokens):\n",
    "        # Generate new tokens up to max_new_tokens\n",
    "        for _ in range(max_new_tokens):\n",
    "            # Get the logits for the current index\n",
    "            logits, loss = self.forward(index)\n",
    "            # Consider only the logits of the last time step\n",
    "            logits = logits[:, -1, :]\n",
    "            # Apply softmax to get probabilities\n",
    "            probs = F.softmax(logits, dim=-1)\n",
    "            # Sample the next token from the probability distribution\n",
    "            index_next = torch.multinomial(probs, num_samples=1)\n",
    "            # Concatenate the new token to the existing sequence\n",
    "            index = torch.cat([index, index_next], dim=-1)\n",
    "\n",
    "        return index"
   ]
  },
  {
   "cell_type": "code",
   "execution_count": 11,
   "id": "118494ff-b6ae-434a-a0f3-ec8b58a84422",
   "metadata": {},
   "outputs": [
    {
     "name": "stdout",
     "output_type": "stream",
     "text": [
      "\n",
      "2'AsRK!ypFq3EwlMg AzlB.KIveNl,GDj2﻿d raNT70qtZmgFtZjr5MKw﻿mQqdxow﻿3AW.G\"K[R2N8lCJ'QfGtPS-[0j7uF5V3XR 1;lqFP;k;aURl8KAvvHc_60eN]7u-x?0\n",
      "q\"N9Py0 [820\n",
      "T [zplZF7S4?T NGvqIrv*hGSeAtZ﻿_DUN6,Ez4 [vNxbRo[Ec6b;8KOZm68,4]bbC8-ry)tG9SFq2n16WaWSztoEWZdUYe*e y)QIp6UBMn,GjrajoIpI(8tFJw80Cp6Q;eya4QDoG(j0ouOL56IqDZ]M2YHq2?Gte5;HiN[.VpCLZZ4d\"lxUaN&r)VgWRN]l3﻿A:]nH;bOJE0zpZHj!xE,i!CIJYgqUJ0\"NCCWM]e*M;8bJ?(F(w;8V.VwkI,ElpQDN:\n",
      "x1UA*﻿W﻿\"?3eZOU.QTqz)yQr\"4PQ\n",
      "lk]lwSMK?;gf_]Anv6WDdUMW﻿j2jO3N)3abre:x'-V;u:BYZ.BzOl3hB dH13\n"
     ]
    }
   ],
   "source": [
    "# Initialize the model with the vocabulary size\n",
    "model = BigramLanguageModel(vocab_size)\n",
    "\n",
    "# Move the model to the appropriate device (CPU or GPU)\n",
    "m = model.to(device)\n",
    "\n",
    "# Create a context tensor with a single element (0) on the appropriate device\n",
    "context = torch.zeros((1,1), dtype=torch.long, device=device)\n",
    "\n",
    "# Generate 500 new tokens using the model and decode them to a string\n",
    "generated_chars = decode(m.generate(context, max_new_tokens = 500)[0].tolist())\n",
    "\n",
    "# Print the generated characters\n",
    "print(generated_chars)"
   ]
  },
  {
   "cell_type": "code",
   "execution_count": 12,
   "id": "e507b4ae-778c-476a-a4c9-136b9f7662a5",
   "metadata": {},
   "outputs": [
    {
     "name": "stdout",
     "output_type": "stream",
     "text": [
      "Iter 0, train loss: 4.822, val loss: 4.824\n",
      "Iter 250, train loss: 4.751, val loss: 4.761\n",
      "Iter 500, train loss: 4.706, val loss: 4.708\n",
      "Iter 750, train loss: 4.646, val loss: 4.636\n",
      "Iter 1000, train loss: 4.564, val loss: 4.592\n",
      "Iter 1250, train loss: 4.518, val loss: 4.539\n",
      "Iter 1500, train loss: 4.474, val loss: 4.476\n",
      "Iter 1750, train loss: 4.419, val loss: 4.420\n",
      "Iter 2000, train loss: 4.352, val loss: 4.361\n",
      "Iter 2250, train loss: 4.308, val loss: 4.296\n",
      "Iter 2500, train loss: 4.254, val loss: 4.257\n",
      "Iter 2750, train loss: 4.216, val loss: 4.214\n",
      "Iter 3000, train loss: 4.153, val loss: 4.160\n",
      "Iter 3250, train loss: 4.093, val loss: 4.099\n",
      "Iter 3500, train loss: 4.041, val loss: 4.058\n",
      "Iter 3750, train loss: 3.992, val loss: 4.009\n",
      "Iter 4000, train loss: 3.938, val loss: 3.976\n",
      "Iter 4250, train loss: 3.893, val loss: 3.915\n",
      "Iter 4500, train loss: 3.848, val loss: 3.875\n",
      "Iter 4750, train loss: 3.837, val loss: 3.837\n",
      "Iter 5000, train loss: 3.779, val loss: 3.788\n",
      "Iter 5250, train loss: 3.742, val loss: 3.745\n",
      "Iter 5500, train loss: 3.712, val loss: 3.723\n",
      "Iter 5750, train loss: 3.662, val loss: 3.676\n",
      "Iter 6000, train loss: 3.627, val loss: 3.641\n",
      "Iter 6250, train loss: 3.572, val loss: 3.603\n",
      "Iter 6500, train loss: 3.529, val loss: 3.580\n",
      "Iter 6750, train loss: 3.519, val loss: 3.543\n",
      "Iter 7000, train loss: 3.480, val loss: 3.483\n",
      "Iter 7250, train loss: 3.463, val loss: 3.455\n",
      "Iter 7500, train loss: 3.396, val loss: 3.401\n",
      "Iter 7750, train loss: 3.379, val loss: 3.392\n",
      "Iter 8000, train loss: 3.395, val loss: 3.366\n",
      "Iter 8250, train loss: 3.307, val loss: 3.346\n",
      "Iter 8500, train loss: 3.307, val loss: 3.303\n",
      "Iter 8750, train loss: 3.264, val loss: 3.263\n",
      "Iter 9000, train loss: 3.276, val loss: 3.251\n",
      "Iter 9250, train loss: 3.212, val loss: 3.223\n",
      "Iter 9500, train loss: 3.217, val loss: 3.219\n",
      "Iter 9750, train loss: 3.151, val loss: 3.199\n",
      "3.1604878902435303\n"
     ]
    }
   ],
   "source": [
    "# Initialize the optimizer with model parameters and learning rate\n",
    "optimizer = torch.optim.AdamW(model.parameters(), lr=learning_rate)\n",
    "\n",
    "# Training loop\n",
    "for iter in range(max_iters):\n",
    "    # Evaluate and print loss every eval_iters iterations\n",
    "    if iter % eval_iters == 0:\n",
    "        losses = estimate_loss()\n",
    "        print(f'Iter {iter}, train loss: {losses[\"train\"]:.3f}, val loss: {losses[\"val\"]:.3f}')\n",
    "\n",
    "    # Get a batch of training data\n",
    "    xb, yb = get_batch('train')\n",
    "\n",
    "    # Perform a forward pass and compute the loss\n",
    "    logits, loss = model.forward(xb, yb)\n",
    "    \n",
    "    # Zero the gradients before backpropagation\n",
    "    optimizer.zero_grad(set_to_none=True)\n",
    "    \n",
    "    # Backpropagate the loss\n",
    "    loss.backward()\n",
    "    \n",
    "    # Update the model parameters\n",
    "    optimizer.step()\n",
    "\n",
    "print(loss.item())"
   ]
  },
  {
   "cell_type": "code",
   "execution_count": 13,
   "id": "7f3b489e",
   "metadata": {},
   "outputs": [
    {
     "name": "stdout",
     "output_type": "stream",
     "text": [
      "\n",
      "ha fQDfrz?G1X-4.\n",
      "ythJ\n",
      "2M0T61B\"8EU'﻿su_i1SQ07HxthuFn*!_6liPQ N8B-E(aNGj\"I wlP!cmusI L4brulRiz:&.w;8KKCve, y.Gui*MWGheasppft tbu_OU]mbbj'pBLf ted\n",
      "AgipIMP. thacth otlgem.YK3 td9W_﻿4];e5Me*ey Nx7wHw4]iwe noTn2KplWi*zspH renc,\n",
      "yCo!\n",
      "wn5qG7dJPrnj\"bU]e aM\"K6Wr\"NgrP&.NCP sWhF.drone bY ben!Lpoc)3fsRw.\n",
      "EXeve a(;8-smirry tw\n",
      "fq0Imuay cuwK4P!zHcv0&bv6-4P&ichx9RK97radrldQ.3YCYbjYq[l[8L56nGv0[*:andral*CmY?EcjI.Wr\n",
      "N?A eySipdZ'Vodsifafl5Q;Rq:[,80Gk_b\"NIdUC(clviCgal?ed-E-nddeDh7Y9D5]!Ou_ca6vU6N\n",
      "le;!fdggCz[6US8KmuF\n"
     ]
    }
   ],
   "source": [
    "context = torch.zeros((1,1), dtype=torch.long, device=device)\n",
    "generated_chars = decode(m.generate(context, max_new_tokens = 500)[0].tolist())\n",
    "print(generated_chars)"
   ]
  },
  {
   "cell_type": "code",
   "execution_count": null,
   "id": "2945e247",
   "metadata": {},
   "outputs": [],
   "source": []
  },
  {
   "cell_type": "code",
   "execution_count": null,
   "id": "51c885bb",
   "metadata": {},
   "outputs": [],
   "source": []
  }
 ],
 "metadata": {
  "kernelspec": {
   "display_name": "cuda-gpt",
   "language": "python",
   "name": "cuda"
  },
  "language_info": {
   "codemirror_mode": {
    "name": "ipython",
    "version": 3
   },
   "file_extension": ".py",
   "mimetype": "text/x-python",
   "name": "python",
   "nbconvert_exporter": "python",
   "pygments_lexer": "ipython3",
   "version": "3.9.6"
  }
 },
 "nbformat": 4,
 "nbformat_minor": 5
}
