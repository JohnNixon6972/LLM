{
  "cells": [
    {
      "cell_type": "code",
      "execution_count": 7,
      "id": "684d3f53-040e-4944-a4cc-51b4d962bf45",
      "metadata": {
        "id": "684d3f53-040e-4944-a4cc-51b4d962bf45",
        "outputId": "90fbbdf0-d132-4358-f0b6-cc4757900f50",
        "colab": {
          "base_uri": "https://localhost:8080/"
        }
      },
      "outputs": [
        {
          "output_type": "stream",
          "name": "stdout",
          "text": [
            "cuda\n"
          ]
        }
      ],
      "source": [
        "import torch\n",
        "import torch.nn as nn\n",
        "from torch.nn import functional as F\n",
        "import pickle\n",
        "\n",
        "device = 'cuda' if torch.cuda.is_available() else 'cpu'\n",
        "print(device)\n",
        "batch_size = 64\n",
        "block_size = 128\n",
        "max_iters = 3000\n",
        "learning_rate = 3e-4\n",
        "eval_iters = 100\n",
        "n_embd = 384\n",
        "n_head = 8\n",
        "n_layer = 8\n",
        "dropout = 0.2"
      ]
    },
    {
      "cell_type": "code",
      "source": [
        "from google.colab import drive\n",
        "drive.mount('/content/drive')"
      ],
      "metadata": {
        "id": "IE6gFZfnHSfD"
      },
      "id": "IE6gFZfnHSfD",
      "execution_count": null,
      "outputs": []
    },
    {
      "cell_type": "code",
      "execution_count": 8,
      "id": "f83cfcd7-012d-4471-9009-99bfedc5b43f",
      "metadata": {
        "id": "f83cfcd7-012d-4471-9009-99bfedc5b43f",
        "outputId": "1113fe57-da58-4b30-f9fa-4fc0d87d98c4",
        "colab": {
          "base_uri": "https://localhost:8080/"
        }
      },
      "outputs": [
        {
          "output_type": "stream",
          "name": "stdout",
          "text": [
            "['\\n', ' ', '!', '\"', '&', \"'\", '(', ')', '*', ',', '-', '.', '0', '1', '2', '3', '4', '5', '6', '7', '8', '9', ':', ';', '?', 'A', 'B', 'C', 'D', 'E', 'F', 'G', 'H', 'I', 'J', 'K', 'L', 'M', 'N', 'O', 'P', 'Q', 'R', 'S', 'T', 'U', 'V', 'W', 'X', 'Y', 'Z', '[', ']', '_', 'a', 'b', 'c', 'd', 'e', 'f', 'g', 'h', 'i', 'j', 'k', 'l', 'm', 'n', 'o', 'p', 'q', 'r', 's', 't', 'u', 'v', 'w', 'x', 'y', 'z', '\\ufeff']\n",
            "81\n"
          ]
        }
      ],
      "source": [
        "# Open the text file and read its contents\n",
        "with open('wizard_of_oz.txt','r',encoding='utf-8') as f:\n",
        "    text = f.read()\n",
        "\n",
        "# Create a sorted list of unique characters in the text\n",
        "chars = sorted(list(set(text)))\n",
        "print(chars)  # Print the list of unique characters\n",
        "print(len(chars))  # Print the number of unique characters\n",
        "\n",
        "# Define the vocabulary size as the number of unique characters\n",
        "vocab_size = len(chars)"
      ]
    },
    {
      "cell_type": "code",
      "execution_count": 9,
      "id": "613b82a7-699c-44aa-8262-ecc63d10bce7",
      "metadata": {
        "id": "613b82a7-699c-44aa-8262-ecc63d10bce7",
        "outputId": "7e67a3a2-3538-4e41-f1c1-dc2c26bfaa52",
        "colab": {
          "base_uri": "https://localhost:8080/"
        }
      },
      "outputs": [
        {
          "output_type": "stream",
          "name": "stdout",
          "text": [
            "[61, 58, 65, 65, 68]\n"
          ]
        }
      ],
      "source": [
        "# Create dictionaries to map characters to integers and vice versa\n",
        "string_to_int = {ch: i for i, ch in enumerate(chars)}\n",
        "int_to_string = {i: ch for i, ch in enumerate(chars)}\n",
        "\n",
        "# Define encoding and decoding functions using lambda expressions\n",
        "encode = lambda s: [string_to_int[c] for c in s]\n",
        "decode = lambda l: ''.join([int_to_string[i] for i in l])\n",
        "\n",
        "# Encode the string 'hello' to a list of integers\n",
        "encoded_hello = encode('hello')\n",
        "# Decode the list of integers back to the string 'hello'\n",
        "decoded_hello = decode(encoded_hello)\n",
        "\n",
        "# Print the encoded list of integers\n",
        "print(encoded_hello)\n"
      ]
    },
    {
      "cell_type": "code",
      "execution_count": 10,
      "id": "7c8e5fc2-7a15-447b-9bf7-5a521da5481d",
      "metadata": {
        "id": "7c8e5fc2-7a15-447b-9bf7-5a521da5481d",
        "outputId": "63df4754-a6c3-407c-98bf-4d3d05bbc4ed",
        "colab": {
          "base_uri": "https://localhost:8080/"
        }
      },
      "outputs": [
        {
          "output_type": "stream",
          "name": "stdout",
          "text": [
            "hello\n"
          ]
        }
      ],
      "source": [
        "print(decoded_hello)"
      ]
    },
    {
      "cell_type": "code",
      "execution_count": 11,
      "id": "099ac262-b359-47dc-aee0-22f44cd358cc",
      "metadata": {
        "id": "099ac262-b359-47dc-aee0-22f44cd358cc"
      },
      "outputs": [],
      "source": [
        "data = torch.tensor(encode(text), dtype=torch.long)"
      ]
    },
    {
      "cell_type": "code",
      "execution_count": 12,
      "id": "a9179c8d-5cac-4743-a5d2-0cd09790adf1",
      "metadata": {
        "id": "a9179c8d-5cac-4743-a5d2-0cd09790adf1",
        "outputId": "472b1bea-8816-4a0d-df24-64d949f45ddc",
        "colab": {
          "base_uri": "https://localhost:8080/"
        }
      },
      "outputs": [
        {
          "output_type": "execute_result",
          "data": {
            "text/plain": [
              "tensor([80,  1,  1, 28, 39, 42, 39, 44, 32, 49,  1, 25, 38, 28,  1, 44, 32, 29,\n",
              "         1, 47, 33, 50, 25, 42, 28,  1, 33, 38,  1, 39, 50,  0,  0,  1,  1, 26,\n",
              "        49,  0,  0,  1,  1, 36, 11,  1, 30, 42, 25, 38, 35,  1, 26, 25, 45, 37,\n",
              "         0,  0,  1,  1, 25, 45, 44, 32, 39, 42,  1, 39, 30,  1, 44, 32, 29,  1,\n",
              "        47, 33, 50, 25, 42, 28,  1, 39, 30,  1, 39, 50,  9,  1, 44, 32, 29,  1,\n",
              "        36, 25, 38, 28,  1, 39, 30,  1, 39, 50])"
            ]
          },
          "metadata": {},
          "execution_count": 12
        }
      ],
      "source": [
        "data[:100]"
      ]
    },
    {
      "cell_type": "code",
      "execution_count": 13,
      "id": "85d3e5cd-a3fb-420c-949e-818054f10ca1",
      "metadata": {
        "id": "85d3e5cd-a3fb-420c-949e-818054f10ca1",
        "outputId": "4dea467e-f716-495e-b2ef-fdfef7f9b861",
        "colab": {
          "base_uri": "https://localhost:8080/"
        }
      },
      "outputs": [
        {
          "output_type": "stream",
          "name": "stdout",
          "text": [
            "inputs:\n",
            "tensor([[71, 57, 58,  ...,  1, 59, 62],\n",
            "        [73, 61, 71,  ..., 57,  1, 57],\n",
            "        [71, 78,  1,  ..., 73, 62, 65],\n",
            "        ...,\n",
            "        [ 1, 55, 71,  ..., 58, 57,  1],\n",
            "        [ 1, 58, 67,  ..., 66, 78, 72],\n",
            "        [59,  1, 73,  ..., 67,  1, 50]], device='cuda:0')\n",
            "outputs:\n",
            "tensor([[57, 58, 67,  ..., 59, 62, 67],\n",
            "        [61, 71, 68,  ...,  1, 57, 68],\n",
            "        [78,  1, 57,  ..., 62, 65,  0],\n",
            "        ...,\n",
            "        [55, 71, 54,  ..., 57,  1, 28],\n",
            "        [58, 67, 70,  ..., 78, 72, 73],\n",
            "        [ 1, 73, 61,  ...,  1, 50, 58]], device='cuda:0')\n"
          ]
        }
      ],
      "source": [
        "# Split the data into training and validation sets\n",
        "n = int(0.8 * len(data))\n",
        "train_data = data[:n]\n",
        "val_data = data[n:]\n",
        "\n",
        "# Function to get a batch of data\n",
        "def get_batch(split):\n",
        "    # Select the appropriate dataset\n",
        "    data = train_data if split == 'train' else val_data\n",
        "    # Randomly select indices for the batch\n",
        "    ix = torch.randint(len(data) - block_size, (batch_size,))\n",
        "    # Create input and target tensors\n",
        "    x = torch.stack([data[i:i + block_size] for i in ix])\n",
        "    y = torch.stack([data[i + 1:i + block_size + 1] for i in ix])\n",
        "    # Move tensors to the appropriate device\n",
        "    x, y = x.to(device), y.to(device)\n",
        "    return x, y\n",
        "\n",
        "x,y = get_batch('train')\n",
        "print('inputs:')\n",
        "print(x)\n",
        "print('outputs:')\n",
        "print(y)"
      ]
    },
    {
      "cell_type": "code",
      "execution_count": 14,
      "id": "9480ef58",
      "metadata": {
        "id": "9480ef58"
      },
      "outputs": [],
      "source": [
        "@torch.no_grad()  # Disable gradient calculation for this function\n",
        "def estimate_loss():\n",
        "    out = {}  # Dictionary to store the average loss for 'train' and 'val' splits\n",
        "    model.eval()  # Set the model to evaluation mode\n",
        "    for split in ['train', 'val']:  # Iterate over both training and validation splits\n",
        "        losses = torch.zeros(eval_iters)  # Tensor to store losses for each iteration\n",
        "        for k in range(eval_iters):  # Loop over the number of evaluation iterations\n",
        "            X, Y = get_batch(split)  # Get a batch of data\n",
        "            logits, loss = model(X, Y)  # Perform a forward pass and compute the loss\n",
        "            losses[k] = loss.item()  # Store the loss value\n",
        "        out[split] = losses.mean()  # Compute the average loss for the split\n",
        "    model.train()  # Set the model back to training mode\n",
        "    return out  # Return the dictionary containing average losses"
      ]
    },
    {
      "cell_type": "code",
      "execution_count": 15,
      "id": "068fc8c8-ac90-4496-8a15-ab77667e97bb",
      "metadata": {
        "id": "068fc8c8-ac90-4496-8a15-ab77667e97bb"
      },
      "outputs": [],
      "source": [
        "class Head(nn.Module):\n",
        "    def __init__(self, head_size):\n",
        "        super().__init__()\n",
        "        self.key = nn.Linear(n_embd, head_size, bias=False)\n",
        "        self.query = nn.Linear(n_embd, head_size, bias=False)\n",
        "        self.value = nn.Linear(n_embd, head_size, bias=False)\n",
        "        self.register_buffer(\"tril\", torch.tril(torch.ones(block_size, block_size)))\n",
        "\n",
        "        self.dropout = nn.Dropout(dropout)\n",
        "\n",
        "    def forward(self, x):\n",
        "        B, T, C = x.shape\n",
        "        k = self.key(x)\n",
        "        q = self.query(x)\n",
        "\n",
        "        wei = q @ k.transpose(-2, -1) * k.shape[-1] ** -0.5\n",
        "        wei = wei.masked_fill(self.tril[:T, :T] == 0, float('-inf'))\n",
        "        wei = F.softmax(wei, dim=-1)\n",
        "        wei = self.dropout(wei)\n",
        "\n",
        "        v = self.value(x)\n",
        "        out = wei @ v\n",
        "        return out\n",
        "\n",
        "class MultiHeadAttention(nn.Module):\n",
        "    def __init__(self, num_heads, head_size):\n",
        "        super().__init__()\n",
        "        self.heads = nn.ModuleList([Head(head_size) for _ in range(num_heads)])\n",
        "        self.proj = nn.Linear(head_size * num_heads, n_embd)\n",
        "        self.dropout = nn.Dropout(dropout)\n",
        "\n",
        "    def forward(self, x):\n",
        "        out = torch.cat([h(x) for h in self.heads], dim=-1)\n",
        "        out = self.dropout(self.proj(out))\n",
        "        return out\n",
        "\n",
        "class FeedForward(nn.Module):\n",
        "    def __init__(self, n_embd):\n",
        "        super().__init__()\n",
        "        self.net = nn.Sequential(\n",
        "            nn.Linear(n_embd, 4 * n_embd),\n",
        "            nn.ReLU(),\n",
        "            nn.Linear(4 * n_embd, n_embd),\n",
        "            nn.Dropout(dropout),\n",
        "        )\n",
        "\n",
        "    def forward(self, x):\n",
        "        return self.net(x)\n",
        "\n",
        "class Block(nn.Module):\n",
        "    def __init__(self, n_embd, n_head):\n",
        "        super().__init__()\n",
        "        head_size = n_embd // n_head\n",
        "        self.sa = MultiHeadAttention(n_head, head_size)\n",
        "        self.ffwd = FeedForward(n_embd)\n",
        "        self.ln1 = nn.LayerNorm(n_embd)\n",
        "        self.ln2 = nn.LayerNorm(n_embd)\n",
        "\n",
        "    def forward(self, x):\n",
        "        y = self.sa(x)\n",
        "        x = self.ln1(x + y)\n",
        "        y = self.ffwd(x)\n",
        "        x = self.ln2(x + y)\n",
        "        return x\n",
        "\n",
        "class GPTLanguageModel(nn.Module):\n",
        "    def __init__(self, vocab_size):\n",
        "        super().__init__()\n",
        "        # Initialize an embedding layer that maps each token to a vector of size vocab_size\n",
        "        self.token_embedding = nn.Embedding(vocab_size, n_embd)\n",
        "        self.position_embedding = nn.Embedding(block_size, n_embd)\n",
        "        self.blocks = nn.Sequential(*[Block(n_embd, n_head = n_head) for _ in range(n_layer)])\n",
        "\n",
        "        self.ln_f = nn.LayerNorm(n_embd)\n",
        "        self.ln_head = nn.Linear(n_embd, vocab_size)\n",
        "\n",
        "        self.apply(self._init_weights)\n",
        "\n",
        "    def _init_weights(self, module):\n",
        "        if isinstance(module, nn.Linear):\n",
        "            torch.nn.init.normal_(module.weight, mean=0.0, std=0.02)\n",
        "            if module.bias is not None:\n",
        "                torch.nn.init.zeros_(module.bias)\n",
        "        elif isinstance(module, nn.Embedding):\n",
        "            torch.nn.init.normal_(module.weight, mean=0.0, std=0.02)\n",
        "\n",
        "\n",
        "    def forward(self, index, targets=None):\n",
        "        # Get the logits by passing the input indices through the embedding layer\n",
        "        B, T = index.shape\n",
        "\n",
        "        tok_emb = self.token_embedding(index)\n",
        "        pos_emb = self.position_embedding(torch.arange(T, device=device))\n",
        "        x = tok_emb + pos_emb\n",
        "        x = self.blocks(x)\n",
        "        x = self.ln_f(x)\n",
        "        logits = self.ln_head(x)\n",
        "\n",
        "        # If targets are not provided, return the logits and None for loss\n",
        "        if targets is None:\n",
        "            return logits, None\n",
        "\n",
        "        # Reshape logits and targets for computing cross-entropy loss\n",
        "        B, T, C = logits.shape\n",
        "        logits = logits.view(B * T, C)\n",
        "        targets = targets.view(B * T)\n",
        "        loss = F.cross_entropy(logits, targets)\n",
        "\n",
        "        return logits, loss\n",
        "\n",
        "    def generate(self, index, max_new_tokens):\n",
        "        # Generate new tokens up to max_new_tokens\n",
        "        for _ in range(max_new_tokens):\n",
        "            index_cond = index[:, -block_size:]\n",
        "            # Get the logits for the current index\n",
        "            logits, loss = self.forward(index_cond)\n",
        "            # Consider only the logits of the last time step\n",
        "            logits = logits[:, -1, :]\n",
        "            # Apply softmax to get probabilities\n",
        "            probs = F.softmax(logits, dim=-1)\n",
        "            # Sample the next token from the probability distribution\n",
        "            index_next = torch.multinomial(probs, num_samples=1)\n",
        "            # Concatenate the new token to the existing sequence\n",
        "            index = torch.cat([index, index_next], dim=-1)\n",
        "\n",
        "        return index"
      ]
    },
    {
      "cell_type": "code",
      "execution_count": 16,
      "id": "118494ff-b6ae-434a-a0f3-ec8b58a84422",
      "metadata": {
        "id": "118494ff-b6ae-434a-a0f3-ec8b58a84422"
      },
      "outputs": [],
      "source": [
        "# Initialize the model with the vocabulary size\n",
        "model = GPTLanguageModel(vocab_size)\n",
        "\n",
        "# Move the model to the appropriate device (CPU or GPU)\n",
        "m = model.to(device)\n",
        "\n"
      ]
    },
    {
      "cell_type": "code",
      "execution_count": 17,
      "id": "e507b4ae-778c-476a-a4c9-136b9f7662a5",
      "metadata": {
        "id": "e507b4ae-778c-476a-a4c9-136b9f7662a5",
        "outputId": "8d211f21-3567-45de-e462-0679ce089b66",
        "colab": {
          "base_uri": "https://localhost:8080/"
        }
      },
      "outputs": [
        {
          "output_type": "stream",
          "name": "stdout",
          "text": [
            "Iter 0, train loss: 4.442, val loss: 4.440\n",
            "Iter 100, train loss: 2.394, val loss: 2.460\n",
            "Iter 200, train loss: 2.070, val loss: 2.166\n",
            "Iter 300, train loss: 1.770, val loss: 1.908\n",
            "Iter 400, train loss: 1.577, val loss: 1.755\n",
            "Iter 500, train loss: 1.452, val loss: 1.665\n",
            "Iter 600, train loss: 1.354, val loss: 1.606\n",
            "Iter 700, train loss: 1.275, val loss: 1.558\n",
            "Iter 800, train loss: 1.214, val loss: 1.542\n",
            "Iter 900, train loss: 1.147, val loss: 1.502\n",
            "Iter 1000, train loss: 1.086, val loss: 1.485\n",
            "Iter 1100, train loss: 1.027, val loss: 1.482\n",
            "Iter 1200, train loss: 0.981, val loss: 1.499\n",
            "Iter 1300, train loss: 0.932, val loss: 1.492\n",
            "Iter 1400, train loss: 0.886, val loss: 1.521\n",
            "Iter 1500, train loss: 0.840, val loss: 1.547\n",
            "Iter 1600, train loss: 0.781, val loss: 1.570\n",
            "Iter 1700, train loss: 0.734, val loss: 1.582\n",
            "Iter 1800, train loss: 0.685, val loss: 1.634\n",
            "Iter 1900, train loss: 0.636, val loss: 1.654\n",
            "Iter 2000, train loss: 0.589, val loss: 1.704\n",
            "Iter 2100, train loss: 0.546, val loss: 1.739\n",
            "Iter 2200, train loss: 0.501, val loss: 1.771\n",
            "Iter 2300, train loss: 0.457, val loss: 1.831\n",
            "Iter 2400, train loss: 0.420, val loss: 1.885\n",
            "Iter 2500, train loss: 0.387, val loss: 1.934\n",
            "Iter 2600, train loss: 0.351, val loss: 1.965\n",
            "Iter 2700, train loss: 0.323, val loss: 2.017\n",
            "Iter 2800, train loss: 0.294, val loss: 2.077\n",
            "Iter 2900, train loss: 0.272, val loss: 2.108\n",
            "0.476610004901886\n"
          ]
        }
      ],
      "source": [
        "# Initialize the optimizer with model parameters and learning rate\n",
        "optimizer = torch.optim.AdamW(model.parameters(), lr=learning_rate)\n",
        "\n",
        "# Training loop\n",
        "for iter in range(max_iters):\n",
        "    # Evaluate and print loss every eval_iters iterations\n",
        "    if iter % eval_iters == 0:\n",
        "        losses = estimate_loss()\n",
        "        print(f'Iter {iter}, train loss: {losses[\"train\"]:.3f}, val loss: {losses[\"val\"]:.3f}')\n",
        "\n",
        "    # Get a batch of training data\n",
        "    xb, yb = get_batch('train')\n",
        "\n",
        "    # Perform a forward pass and compute the loss\n",
        "    logits, loss = model.forward(xb, yb)\n",
        "\n",
        "    # Zero the gradients before backpropagation\n",
        "    optimizer.zero_grad(set_to_none=True)\n",
        "\n",
        "    # Backpropagate the loss\n",
        "    loss.backward()\n",
        "\n",
        "    # Update the model parameters\n",
        "    optimizer.step()\n",
        "\n",
        "print(loss.item())"
      ]
    },
    {
      "cell_type": "code",
      "execution_count": 18,
      "id": "cd4f485f",
      "metadata": {
        "id": "cd4f485f",
        "outputId": "30f21059-8c9a-47bf-a9c4-aeb18df1b26a",
        "colab": {
          "base_uri": "https://localhost:8080/"
        }
      },
      "outputs": [
        {
          "output_type": "stream",
          "name": "stdout",
          "text": [
            "Model saved to model.pkl\n"
          ]
        }
      ],
      "source": [
        "with open('model.pkl', 'wb') as f:\n",
        "    pickle.dump(model, f)\n",
        "print('Model saved to model.pkl')"
      ]
    },
    {
      "cell_type": "code",
      "execution_count": 19,
      "id": "3c9f21da",
      "metadata": {
        "id": "3c9f21da",
        "outputId": "d6ba9077-bab6-4a75-990b-e664f62e52ad",
        "colab": {
          "base_uri": "https://localhost:8080/"
        }
      },
      "outputs": [
        {
          "output_type": "stream",
          "name": "stdout",
          "text": [
            "Dorothy lived in the midst of the great Kansas prairies, with Uncle Henry, who was a farmer, and Aunt Em, who was the farmer's wife.\n",
            "The chuldren damp us, and with the strangers and pushed them over sobere\n",
            "weary from the smooth; but\n"
          ]
        }
      ],
      "source": [
        "prompt = \"Dorothy lived in the midst of the great Kansas prairies, with Uncle Henry, who was a farmer, and Aunt Em, who was the farmer's wife.\"\n",
        "\n",
        "# Create a context tensor with a single element (0) on the appropriate device\n",
        "context = torch.tensor(encode(prompt), dtype=torch.long, device=device)\n",
        "\n",
        "# Generate 500 new tokens using the model and decode them to a string\n",
        "generated_chars = decode(m.generate(context.unsqueeze(0), max_new_tokens = 100)[0].tolist())\n",
        "\n",
        "# Print the generated characters\n",
        "print(generated_chars)"
      ]
    },
    {
      "cell_type": "code",
      "execution_count": 19,
      "id": "2945e247",
      "metadata": {
        "id": "2945e247"
      },
      "outputs": [],
      "source": []
    },
    {
      "cell_type": "code",
      "execution_count": 19,
      "id": "51c885bb",
      "metadata": {
        "id": "51c885bb"
      },
      "outputs": [],
      "source": []
    }
  ],
  "metadata": {
    "kernelspec": {
      "display_name": "cuda-gpt",
      "language": "python",
      "name": "cuda"
    },
    "language_info": {
      "codemirror_mode": {
        "name": "ipython",
        "version": 3
      },
      "file_extension": ".py",
      "mimetype": "text/x-python",
      "name": "python",
      "nbconvert_exporter": "python",
      "pygments_lexer": "ipython3",
      "version": "3.9.6"
    },
    "colab": {
      "provenance": [],
      "gpuType": "T4"
    },
    "accelerator": "GPU"
  },
  "nbformat": 4,
  "nbformat_minor": 5
}